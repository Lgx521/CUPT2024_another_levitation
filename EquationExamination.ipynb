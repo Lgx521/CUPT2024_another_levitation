{
 "cells": [
  {
   "metadata": {},
   "cell_type": "markdown",
   "source": "Constants and equation",
   "id": "ecbc19260f87069e"
  },
  {
   "metadata": {},
   "cell_type": "code",
   "outputs": [],
   "execution_count": null,
   "source": [
    "import numpy as np\n",
    "\n",
    "def log(x):\n",
    "    return np.log(x)\n",
    "\n",
    "def atan(x):\n",
    "    return np.arctan(x)\n",
    "\n",
    "pi = 3.1415926535\n",
    "\n",
    "g = 9.7887\n",
    "\n",
    "V = pi * (1.5 ** 2) * 0.5 * 1e-6\n",
    "V_2= pi * (0.5 ** 2) * 0.5 * 1e-6\n",
    "\n",
    "rho = 7.55 * 1e3\n",
    "\n",
    "m = rho * V\n",
    "\n",
    "sigma = 57142857\n",
    "\n",
    "m_left = 0.45\n",
    "\n",
    "m_1 = m_left * V\n",
    "m_2 = m_left * V_2\n",
    "\n",
    "\n",
    "mu_0 = 4 * pi * 1e-7\n",
    "\n",
    "D = 0.01\n",
    "H = 0.0175\n",
    "R = 0.05\n",
    "h0 = 0.014\n",
    "\n",
    "F1 = (5 / (6 * (R ** 2))) * (1 / h - 1 / (h + D))\n",
    "F2 = (1 / (6 * (R ** 3))) * (atan((h / R)) - atan((h + D) / R))\n",
    "F3 = (log(1 + ((R ** 2) / (h ** 2)))) / (6 * (h ** 3)) - (log(1 + (R ** 2 / (h + D) ** 2))) / (6 * ((h + D) ** 3))\n",
    "F4 = -5 / (18 * (h ** 3)) + 5 / (18 * ((h + D) ** 3))\n",
    "F_l = ((9 * sigma * z1[i] * (mu_0 ** 2) * (m_2 ** 2)) / (8 * pi)) * (F1 + F2 + F3 + F4)"
   ],
   "id": "f1bebf5a089f3eae"
  },
  {
   "metadata": {},
   "cell_type": "markdown",
   "source": "",
   "id": "342ead47c6da3c"
  },
  {
   "metadata": {},
   "cell_type": "markdown",
   "source": "### The force applied by the eddy current",
   "id": "f9ab098f897e0562"
  },
  {
   "metadata": {},
   "cell_type": "code",
   "outputs": [],
   "execution_count": null,
   "source": "",
   "id": "a6539086f46f162"
  }
 ],
 "metadata": {
  "kernelspec": {
   "display_name": "Python 3",
   "language": "python",
   "name": "python3"
  },
  "language_info": {
   "codemirror_mode": {
    "name": "ipython",
    "version": 2
   },
   "file_extension": ".py",
   "mimetype": "text/x-python",
   "name": "python",
   "nbconvert_exporter": "python",
   "pygments_lexer": "ipython2",
   "version": "2.7.6"
  }
 },
 "nbformat": 4,
 "nbformat_minor": 5
}
