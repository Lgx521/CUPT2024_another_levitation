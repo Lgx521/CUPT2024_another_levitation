{
 "cells": [
  {
   "metadata": {},
   "cell_type": "markdown",
   "source": "#### 第一版，完全不知道为什么回发生这种情况",
   "id": "84879f6867ac79b7"
  },
  {
   "metadata": {
    "ExecuteTime": {
     "end_time": "2024-06-30T03:58:43.674135Z",
     "start_time": "2024-06-30T03:58:43.431558Z"
    }
   },
   "cell_type": "code",
   "source": [
    "import matplotlib.pyplot as plt\n",
    "import numpy as np\n",
    "\n",
    "\n",
    "def log(x):\n",
    "    return np.log(x)\n",
    "\n",
    "def atan(x):\n",
    "    return np.arctan(x)\n",
    "\n",
    "pi = 3.1415926535\n",
    "\n",
    "g = 9.7887\n",
    "\n",
    "V = pi * (1.5 ** 2) * 0.5 * 1e-6\n",
    "V_2= pi * (0.5 ** 2) * 0.5 * 1e-6\n",
    "\n",
    "rho = 7.55 * 1e3\n",
    "\n",
    "m = rho * V\n",
    "\n",
    "sigma = 57142857\n",
    "\n",
    "m_left = 0.45\n",
    "\n",
    "m_1 = m_left * V\n",
    "m_2 = m_left * V_2\n",
    "\n",
    "\n",
    "mu_0 = 4 * pi * 1e-7\n",
    "\n",
    "D = 0.01\n",
    "H = 0.0175\n",
    "R = 0.05\n",
    "h0 = 0.014\n",
    "\n",
    "dt = 0.001\n",
    "t_max = 1\n",
    "\n",
    "steps = int(t_max / dt)\n",
    "\n",
    "z = [0] * steps\n",
    "z1 = [0] * steps\n",
    "z2 = [0] * steps\n",
    "\n",
    "z[0] = H + h0\n",
    "\n",
    "for i in range(steps - 1):\n",
    "    h = z[i] - H\n",
    "    F1 = (5 / (6 * (R ** 2))) * (1 / h - 1 / (h + D))\n",
    "    F2 = (1 / (6 * (R ** 3))) * (atan((h / R)) - atan((h + D) / R))\n",
    "    F3 = (log(1 + ((R ** 2) / (h ** 2)))) / (6 * (h ** 3)) - (log(1 + (R ** 2 / (h + D) ** 2))) / (6 * ((h + D) ** 3))\n",
    "    F4 = -5 / (18 * (h ** 3)) + 5 / (18 * ((h + D) ** 3))\n",
    "    F_l = ((9 * sigma * z1[i] * (mu_0 ** 2) * (m_2 ** 2)) / (8 * pi)) * (F1 + F2 + F3 + F4)\n",
    "    F_m = (3 * mu_0 * m_1 * m_2) / (2 * pi * (z[i] ** 4))\n",
    "    z2[i] = -g + F_m / m + F_l / m\n",
    "    z1[i + 1] = z1[i] + dt * z2[i]\n",
    "    z[i + 1] = z[i] + dt * z1[i]\n",
    "\n",
    "t = [0] * steps\n",
    "for i in range(steps):\n",
    "    t[i] = (i + 1) * dt\n",
    "\n",
    "ypoints = np.array(z)\n",
    "xpoints = np.array(t)\n",
    "\n",
    "name = '/Users/gansz/Downloads/CUPT2024/PythonAnalysis/plots/plot_1.png'\n",
    "\n",
    "plt.plot(xpoints, ypoints, lw='0.5')\n",
    "plt.savefig(name, dpi=320)\n",
    "\n",
    "plt.show()\n"
   ],
   "id": "6de1a671b6f830e5",
   "outputs": [
    {
     "data": {
      "text/plain": [
       "<Figure size 640x480 with 1 Axes>"
      ],
      "image/png": "[encoded data removed]"
     },
     "metadata": {},
     "output_type": "display_data"
    }
   ],
   "execution_count": 3
  },
  {
   "metadata": {},
   "cell_type": "code",
   "outputs": [],
   "execution_count": null,
   "source": "",
   "id": "6cff9f4cccd220ab"
  }
 ],
 "metadata": {
  "kernelspec": {
   "display_name": "Python 3",
   "language": "python",
   "name": "python3"
  },
  "language_info": {
   "codemirror_mode": {
    "name": "ipython",
    "version": 2
   },
   "file_extension": ".py",
   "mimetype": "text/x-python",
   "name": "python",
   "nbconvert_exporter": "python",
   "pygments_lexer": "ipython2",
   "version": "2.7.6"
  }
 },
 "nbformat": 4,
 "nbformat_minor": 5
}
